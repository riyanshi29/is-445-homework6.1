{
 "cells": [
  {
   "cell_type": "code",
   "execution_count": null,
   "id": "44102578",
   "metadata": {},
   "outputs": [],
   "source": [
    "import pandas as pd\n",
    "import altair as alt\n",
    "\n",
    "#import the data\n",
    "url = \"https://raw.githubusercontent.com/UIUC-iSchool-DataViz/is445_data/main/building_inventory.csv\"\n",
    "df = pd.read_csv(url)\n",
    "alt.data_transformers.disable_max_rows()\n",
    "\n",
    "#Fill the missing data with Unknown\n",
    "df['County'].fillna('Not available', inplace=True)\n",
    "df['Rep Full Name'].fillna('Not available', inplace=True)\n",
    "df['Year Constructed'].fillna(df['Year Constructed'].median(), inplace=True)\n",
    "df['Senator Full Name'].fillna('Unknown', inplace=True)\n",
    "df['Usage Description 2'].fillna(df['Usage Description 2'].mode()[0], inplace=True)\n",
    "df['Usage Description 3'].fillna(df['Usage Description 3'].mode()[0], inplace=True)\n",
    "df['Address'].fillna('Not available', inplace=True)\n",
    "df['Congressional Full Name'].fillna('Unknown', inplace=True)\n",
    "df"
   ]
  },
  {
   "cell_type": "code",
   "execution_count": null,
   "id": "af36f869",
   "metadata": {},
   "outputs": [],
   "source": [
    "df.columns"
   ]
  },
  {
   "cell_type": "code",
   "execution_count": null,
   "id": "463ab244",
   "metadata": {},
   "outputs": [],
   "source": [
    "df_county = df.groupby(['County', 'Bldg Status']).size().reset_index(name='Count')"
   ]
  },
  {
   "cell_type": "code",
   "execution_count": null,
   "id": "ad655f75",
   "metadata": {},
   "outputs": [],
   "source": [
    "radio_button = alt.binding_radio(options=df['Bldg Status'].unique().tolist(), name='Building Status: ')\n",
    "\n",
    "select_status = alt.selection_single(fields=['Bldg Status'], bind=radio_button)\n",
    "\n",
    "bar_chart = alt.Chart(df_county).mark_bar().encode(\n",
    "    x=alt.X('County:O', sort='-y', title='County'),\n",
    "    y=alt.Y('Count:Q', title='Number of Buildings'),\n",
    "    color=alt.Color('Bldg Status:N', title='Building Status'),\n",
    "    tooltip=['County', 'Bldg Status', 'Count']\n",
    ").add_selection(\n",
    "    select_status\n",
    ").transform_filter(\n",
    "    select_status\n",
    ").properties(\n",
    "    title=\"Number of Buildings by County\",\n",
    "    width=900,\n",
    "    height=400\n",
    ")\n",
    "bar_chart\n"
   ]
  },
  {
   "cell_type": "code",
   "execution_count": null,
   "id": "3334660f",
   "metadata": {},
   "outputs": [],
   "source": [
    "data_filtered = df[['County', 'Usage Description']].dropna()\n",
    "\n",
    "# Dropdown for County selection\n",
    "dropdown = alt.binding_select(options=data_filtered['County'].unique().tolist(), name='Select County: ')\n",
    "county_param = alt.param(name='county', bind=dropdown, value=data_filtered['County'].unique()[0])\n",
    "\n",
    "stacked_bar = (\n",
    "    alt.Chart(data_filtered)\n",
    "    .mark_bar()\n",
    "    .encode(\n",
    "        x=alt.X('count():Q', title='Building Count'),\n",
    "        y=alt.Y('Usage Description:N', title='Usage Description'),\n",
    "        color=alt.Color('Usage Description:N', title='Usage Description'),\n",
    "        tooltip=[\n",
    "            alt.Tooltip('count():Q', title='Building Count'),\n",
    "            alt.Tooltip('Usage Description:N', title='Usage Description'),\n",
    "            alt.Tooltip('County:N', title='County'),\n",
    "        ]\n",
    "    )\n",
    "    .add_params(county_param)\n",
    "    .transform_filter(f\"datum.County == {county_param.name}\")\n",
    "    .properties(\n",
    "        title='Building Count by Usage Description for Each County',\n",
    "        width=800,\n",
    "        height=400\n",
    "    )\n",
    ")\n",
    "\n",
    "stacked_bar"
   ]
  },
  {
   "cell_type": "code",
   "execution_count": null,
   "id": "41ff94d5",
   "metadata": {},
   "outputs": [],
   "source": [
    "bar_chart.save(r'C:\\Users\\riyan\\homework6.1\\assets\\visualizations\\chart1.json')\n",
    "\n",
    "stacked_bar.save(r'C:\\Users\\riyan\\homework6.1\\assets\\visualizations\\chart2.json')"
   ]
  },
  {
   "cell_type": "code",
   "execution_count": null,
   "id": "3fe2b852",
   "metadata": {},
   "outputs": [],
   "source": []
  },
  {
   "cell_type": "code",
   "execution_count": null,
   "id": "3bf92663",
   "metadata": {},
   "outputs": [],
   "source": []
  }
 ],
 "metadata": {
  "kernelspec": {
   "display_name": "Python 3 (ipykernel)",
   "language": "python",
   "name": "python3"
  },
  "language_info": {
   "codemirror_mode": {
    "name": "ipython",
    "version": 3
   },
   "file_extension": ".py",
   "mimetype": "text/x-python",
   "name": "python",
   "nbconvert_exporter": "python",
   "pygments_lexer": "ipython3",
   "version": "3.11.5"
  }
 },
 "nbformat": 4,
 "nbformat_minor": 5
}
